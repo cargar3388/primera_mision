{
 "cells": [
  {
   "cell_type": "markdown",
   "metadata": {},
   "source": [
    "## Ejercicio - Escribir declaraciones if, else, y elif"
   ]
  },
  {
   "cell_type": "code",
   "execution_count": 6,
   "metadata": {},
   "outputs": [
    {
     "name": "stdout",
     "output_type": "stream",
     "text": [
      "el asteroide va demaciado rapido !!!cuidado¡¡¡\n"
     ]
    }
   ],
   "source": [
    "vel_ast = input(\"Inserta la velocidad estimada del asteroide en (km/s):\")\n",
    "if int(vel_ast) > 25:\n",
    "    print(\"el asteroide va demaciado rapido !!!cuidado¡¡¡\") \n",
    "else:\n",
    "    print(\"fuera de peligro\") "
   ]
  },
  {
   "cell_type": "code",
   "execution_count": 2,
   "metadata": {},
   "outputs": [
    {
     "name": "stdout",
     "output_type": "stream",
     "text": [
      "el asteroide no es visible\n"
     ]
    }
   ],
   "source": [
    "vel_ast = 19\n",
    "if vel_ast == 20:\n",
    "    print(\"el asteroide puede que sea visible\")\n",
    "elif vel_ast > 20:\n",
    "    print(\"el asteroide puede que sea mas visible\") \n",
    "else:\n",
    "    print(\"el asteroide no es visible\") "
   ]
  },
  {
   "cell_type": "code",
   "execution_count": 8,
   "metadata": {},
   "outputs": [
    {
     "name": "stdout",
     "output_type": "stream",
     "text": [
      "el asteroide va demaciado rapido pero no es tan grande !!!cuidado¡¡¡\n"
     ]
    }
   ],
   "source": [
    "vel_ast = input(\"Inserta la velocidad estimada del asteroide en (km/s):\")\n",
    "tamaño_ast = input(\"Inserta tamaño estimado del asteroide en (km2):\")\n",
    "if int(vel_ast) >= 25 and int(tamaño_ast) >= 50:\n",
    "    print(\"el asteroide va demaciado rapido y es demaciado grande !!!cuidado¡¡¡\")\n",
    "elif int(vel_ast) > 25 and int(tamaño_ast) < 50:\n",
    "    print(\"el asteroide va demaciado rapido pero no es tan grande !!!cuidado¡¡¡\")\n",
    "elif int(vel_ast) < 25 and int(tamaño_ast) > 50:\n",
    "    print(\"el asteroide va lento pero es demaciado grande !!!cuidado¡¡¡\") \n",
    "else:\n",
    "    print(\"fuera de peligro\") "
   ]
  }
 ],
 "metadata": {
  "interpreter": {
   "hash": "1c8abf316c9538788b1cef43a961f437602a572b2457d38b803504f9f7822990"
  },
  "kernelspec": {
   "display_name": "Python 3.10.2 64-bit (windows store)",
   "language": "python",
   "name": "python3"
  },
  "language_info": {
   "codemirror_mode": {
    "name": "ipython",
    "version": 3
   },
   "file_extension": ".py",
   "mimetype": "text/x-python",
   "name": "python",
   "nbconvert_exporter": "python",
   "pygments_lexer": "ipython3",
   "version": "3.10.2"
  },
  "orig_nbformat": 4
 },
 "nbformat": 4,
 "nbformat_minor": 2
}
