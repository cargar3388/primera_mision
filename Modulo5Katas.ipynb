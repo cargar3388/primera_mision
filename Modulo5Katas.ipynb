{
 "cells": [
  {
   "cell_type": "markdown",
   "metadata": {},
   "source": [
    "## Ejercicio1 - Utilizar operadores aritméticos"
   ]
  },
  {
   "cell_type": "code",
   "execution_count": 3,
   "metadata": {},
   "outputs": [],
   "source": [
    "Tierra = 149597870\n",
    "Júpiter = 778547200"
   ]
  },
  {
   "cell_type": "code",
   "execution_count": 8,
   "metadata": {},
   "outputs": [
    {
     "name": "stdout",
     "output_type": "stream",
     "text": [
      "628949330km\n",
      "390577533.93millas\n",
      "390577533.93millas\n"
     ]
    }
   ],
   "source": [
    "resta = Júpiter - Tierra\n",
    "resta_2 = resta * 0.621\n",
    "resta_3 = (Júpiter - Tierra) * 0.621\n",
    "print (str(resta) + ' km')\n",
    "print (str(resta_2) + ' millas')\n",
    "print (str(resta_3) + ' millas')"
   ]
  },
  {
   "cell_type": "markdown",
   "metadata": {},
   "source": [
    "## Ejercicio 2: convierte cadenas en números y usa valores absolutos"
   ]
  },
  {
   "cell_type": "code",
   "execution_count": 10,
   "metadata": {},
   "outputs": [
    {
     "name": "stdout",
     "output_type": "stream",
     "text": [
      "La distancia entre Neptuno y Saturno = 3061600000 km\n",
      "La distancia entre Neptuno y Saturno = 1901253600.0 millas\n",
      "La distancia entre Neptuno y Saturno = 1901253600.0 millas\n"
     ]
    }
   ],
   "source": [
    "nombre_1 = input('Inserta el nombre del primer planeta:')\n",
    "distancia_1 = int(input('Inserta la distancia entre el primer planeta y el sol en km: '))\n",
    "nombre_2 = input('Inserta el nombre del segundo planeta:')\n",
    "distancia_2 = int(input('Inserta la distancia entre el segundo planeta y el sol en km: '))\n",
    "resta = abs(distancia_1 - distancia_2)\n",
    "resta_2 = abs(resta) * 0.621\n",
    "resta_3 = abs((distancia_1 - distancia_2) * 0.621)\n",
    "print ('La distancia entre '+ nombre_1 + ' y ' + nombre_2 + ' es de = ' + str(resta) + ' km')\n",
    "print ('La distancia entre '+ nombre_1 + ' y ' + nombre_2 + ' es de = ' + str(resta_2) + ' millas')\n",
    "print ('La distancia entre '+ nombre_1 + ' y ' + nombre_2 + ' es de = ' + str(resta_3) + ' millas')"
   ]
  }
 ],
 "metadata": {
  "interpreter": {
   "hash": "1c8abf316c9538788b1cef43a961f437602a572b2457d38b803504f9f7822990"
  },
  "kernelspec": {
   "display_name": "Python 3.10.2 64-bit (windows store)",
   "language": "python",
   "name": "python3"
  },
  "language_info": {
   "codemirror_mode": {
    "name": "ipython",
    "version": 3
   },
   "file_extension": ".py",
   "mimetype": "text/x-python",
   "name": "python",
   "nbconvert_exporter": "python",
   "pygments_lexer": "ipython3",
   "version": "3.10.2"
  },
  "orig_nbformat": 4
 },
 "nbformat": 4,
 "nbformat_minor": 2
}
