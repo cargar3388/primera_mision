{
 "cells": [
  {
   "cell_type": "markdown",
   "metadata": {},
   "source": [
    "## Ejercicio: Uso de funciones en Python"
   ]
  },
  {
   "cell_type": "code",
   "execution_count": 2,
   "metadata": {},
   "outputs": [],
   "source": [
    "def informe (tanque_1,tanque_2,tanque_3):\n",
    "    promedio_tanques = (tanque_1 + tanque_2 + tanque_3) / 3\n",
    "    return f\"\"\"\n",
    "    Reporte \n",
    "    Promedio de los tanques: {promedio_tanques}%\n",
    "    Primer tanque: {tanque_1}%\n",
    "    Segundo tanque: {tanque_2}%\n",
    "    Tercer tanque: {tanque_3}%  \n",
    "    \"\"\""
   ]
  },
  {
   "cell_type": "code",
   "execution_count": 3,
   "metadata": {},
   "outputs": [
    {
     "name": "stdout",
     "output_type": "stream",
     "text": [
      "\n",
      "    Reporte \n",
      "    Promedio de los tanques: 40.0%\n",
      "    Primer tanque: 15%\n",
      "    Segundo tanque: 20%\n",
      "    Tercer tanque: 85%  \n",
      "    \n"
     ]
    }
   ],
   "source": [
    "print (informe(15,20,85))"
   ]
  },
  {
   "cell_type": "code",
   "execution_count": 4,
   "metadata": {},
   "outputs": [],
   "source": [
    "def promedio(valores):\n",
    "    suma = sum(valores)\n",
    "    numero_valores = len(valores)\n",
    "    return suma/numero_valores"
   ]
  },
  {
   "cell_type": "code",
   "execution_count": 6,
   "metadata": {},
   "outputs": [
    {
     "name": "stdout",
     "output_type": "stream",
     "text": [
      "40.0\n"
     ]
    }
   ],
   "source": [
    "print(promedio([15,20,85]))"
   ]
  },
  {
   "cell_type": "code",
   "execution_count": 8,
   "metadata": {},
   "outputs": [],
   "source": [
    "def informe (tanque_1,tanque_2,tanque_3):\n",
    "    return f\"\"\"\n",
    "    Reporte \n",
    "    Promedio de los tanques: {promedio([tanque_1,tanque_2,tanque_3])}%\n",
    "    Primer tanque: {tanque_1}%\n",
    "    Segundo tanque: {tanque_2}%\n",
    "    Tercer tanque: {tanque_3}%  \n",
    "    \"\"\""
   ]
  },
  {
   "cell_type": "code",
   "execution_count": 9,
   "metadata": {},
   "outputs": [
    {
     "name": "stdout",
     "output_type": "stream",
     "text": [
      "\n",
      "    Reporte \n",
      "    Promedio de los tanques: 40.0%\n",
      "    Primer tanque: 15%\n",
      "    Segundo tanque: 20%\n",
      "    Tercer tanque: 85%  \n",
      "    \n"
     ]
    }
   ],
   "source": [
    "print (informe(15,20,85))"
   ]
  },
  {
   "cell_type": "markdown",
   "metadata": {},
   "source": [
    "## Ejercicio 2: Trabajo con argumentos de palabra clave"
   ]
  },
  {
   "cell_type": "code",
   "execution_count": 10,
   "metadata": {},
   "outputs": [],
   "source": [
    "def reporte_mision(prelanzamiento,tiempo_vuelo,destino,tanque_externo,tanque_interno):\n",
    "    return f'''\n",
    "    Destino de la mision: {destino}\n",
    "    Tiempo del viaje: {prelanzamiento + tiempo_vuelo} min\n",
    "    Total de combustible: {tanque_externo + tanque_interno} lts\n",
    "    '''"
   ]
  },
  {
   "cell_type": "code",
   "execution_count": 11,
   "metadata": {},
   "outputs": [
    {
     "name": "stdout",
     "output_type": "stream",
     "text": [
      "\n",
      "    Destino de la mision: Marte\n",
      "    Tiempo del viaje: 1510 min\n",
      "    Total de combustible: 70 lts\n",
      "    \n"
     ]
    }
   ],
   "source": [
    "print (reporte_mision(10,1500,'Marte',50,20))"
   ]
  },
  {
   "cell_type": "code",
   "execution_count": 16,
   "metadata": {},
   "outputs": [],
   "source": [
    "def reporte_mision(destino,*min,**conbustible):\n",
    "    return f'''\n",
    "    Destino de la mision: {destino}\n",
    "    Tiempo del viaje: {sum(min)} min\n",
    "    Total de combustible: {sum(conbustible.values())} lts\n",
    "    '''"
   ]
  },
  {
   "cell_type": "code",
   "execution_count": 17,
   "metadata": {},
   "outputs": [
    {
     "name": "stdout",
     "output_type": "stream",
     "text": [
      "\n",
      "    Destino de la mision: Marte\n",
      "    Tiempo del viaje: 70 min\n",
      "    Total de combustible: 250 lts\n",
      "    \n"
     ]
    }
   ],
   "source": [
    "print(reporte_mision('Marte',5,20,15,30,externo = 20,interno = 80,reserva = 150))"
   ]
  },
  {
   "cell_type": "code",
   "execution_count": 20,
   "metadata": {},
   "outputs": [],
   "source": [
    "def reporte_mision(destino,*min,**conbustible):\n",
    "    primer_reporte = f'''\n",
    "    Destino de la mision: {destino}\n",
    "    Tiempo del viaje: {sum(min)} min\n",
    "    Total de combustible: {sum(conbustible.values())} lts\n",
    "    '''\n",
    "    for nombre_tanquue,litros in conbustible.items():\n",
    "        primer_reporte += f'El tanque {nombre_tanquue} contiene : {litros} lts \\n'\n",
    "    return primer_reporte"
   ]
  },
  {
   "cell_type": "code",
   "execution_count": 21,
   "metadata": {},
   "outputs": [
    {
     "name": "stdout",
     "output_type": "stream",
     "text": [
      "\n",
      "    Destino de la mision: Marte\n",
      "    Tiempo del viaje: 70 min\n",
      "    Total de combustible: 250 lts\n",
      "    El tanque externo contiene : 20 lts \n",
      "El tanque interno contiene : 80 lts \n",
      "El tanque reserva contiene : 150 lts \n",
      "\n"
     ]
    }
   ],
   "source": [
    "print(reporte_mision('Marte',5,20,15,30,externo = 20,interno = 80,reserva = 150))"
   ]
  },
  {
   "cell_type": "code",
   "execution_count": null,
   "metadata": {},
   "outputs": [],
   "source": []
  }
 ],
 "metadata": {
  "interpreter": {
   "hash": "1c8abf316c9538788b1cef43a961f437602a572b2457d38b803504f9f7822990"
  },
  "kernelspec": {
   "display_name": "Python 3.10.2 64-bit (windows store)",
   "language": "python",
   "name": "python3"
  },
  "language_info": {
   "codemirror_mode": {
    "name": "ipython",
    "version": 3
   },
   "file_extension": ".py",
   "mimetype": "text/x-python",
   "name": "python",
   "nbconvert_exporter": "python",
   "pygments_lexer": "ipython3",
   "version": "3.10.2"
  },
  "orig_nbformat": 4
 },
 "nbformat": 4,
 "nbformat_minor": 2
}
